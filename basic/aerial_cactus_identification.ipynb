{
 "cells": [
  {
   "cell_type": "markdown",
   "metadata": {},
   "source": [
    "[캐글](https://www.kaggle.com/competitions/aerial-cactus-identification/data)"
   ]
  },
  {
   "cell_type": "markdown",
   "metadata": {},
   "source": [
    "# EDA"
   ]
  },
  {
   "cell_type": "markdown",
   "metadata": {},
   "source": [
    "## 데이터 둘러보기"
   ]
  },
  {
   "cell_type": "code",
   "execution_count": 109,
   "metadata": {},
   "outputs": [],
   "source": [
    "import pandas as pd\n",
    "\n",
    "data_path = \"./data/aerial_cactus_identification/\"\n",
    "labels = pd.read_csv(data_path + \"train.csv\")\n",
    "submissions = pd.read_csv(data_path + \"sample_submission.csv\")"
   ]
  },
  {
   "cell_type": "code",
   "execution_count": 110,
   "metadata": {},
   "outputs": [
    {
     "data": {
      "text/html": [
       "<div>\n",
       "<style scoped>\n",
       "    .dataframe tbody tr th:only-of-type {\n",
       "        vertical-align: middle;\n",
       "    }\n",
       "\n",
       "    .dataframe tbody tr th {\n",
       "        vertical-align: top;\n",
       "    }\n",
       "\n",
       "    .dataframe thead th {\n",
       "        text-align: right;\n",
       "    }\n",
       "</style>\n",
       "<table border=\"1\" class=\"dataframe\">\n",
       "  <thead>\n",
       "    <tr style=\"text-align: right;\">\n",
       "      <th></th>\n",
       "      <th>id</th>\n",
       "      <th>has_cactus</th>\n",
       "    </tr>\n",
       "  </thead>\n",
       "  <tbody>\n",
       "    <tr>\n",
       "      <th>0</th>\n",
       "      <td>0004be2cfeaba1c0361d39e2b000257b.jpg</td>\n",
       "      <td>1</td>\n",
       "    </tr>\n",
       "    <tr>\n",
       "      <th>1</th>\n",
       "      <td>000c8a36845c0208e833c79c1bffedd1.jpg</td>\n",
       "      <td>1</td>\n",
       "    </tr>\n",
       "    <tr>\n",
       "      <th>2</th>\n",
       "      <td>000d1e9a533f62e55c289303b072733d.jpg</td>\n",
       "      <td>1</td>\n",
       "    </tr>\n",
       "    <tr>\n",
       "      <th>3</th>\n",
       "      <td>0011485b40695e9138e92d0b3fb55128.jpg</td>\n",
       "      <td>1</td>\n",
       "    </tr>\n",
       "    <tr>\n",
       "      <th>4</th>\n",
       "      <td>0014d7a11e90b62848904c1418fc8cf2.jpg</td>\n",
       "      <td>1</td>\n",
       "    </tr>\n",
       "  </tbody>\n",
       "</table>\n",
       "</div>"
      ],
      "text/plain": [
       "                                     id  has_cactus\n",
       "0  0004be2cfeaba1c0361d39e2b000257b.jpg           1\n",
       "1  000c8a36845c0208e833c79c1bffedd1.jpg           1\n",
       "2  000d1e9a533f62e55c289303b072733d.jpg           1\n",
       "3  0011485b40695e9138e92d0b3fb55128.jpg           1\n",
       "4  0014d7a11e90b62848904c1418fc8cf2.jpg           1"
      ]
     },
     "execution_count": 110,
     "metadata": {},
     "output_type": "execute_result"
    }
   ],
   "source": [
    "labels.head()"
   ]
  },
  {
   "cell_type": "code",
   "execution_count": 111,
   "metadata": {},
   "outputs": [
    {
     "data": {
      "text/html": [
       "<div>\n",
       "<style scoped>\n",
       "    .dataframe tbody tr th:only-of-type {\n",
       "        vertical-align: middle;\n",
       "    }\n",
       "\n",
       "    .dataframe tbody tr th {\n",
       "        vertical-align: top;\n",
       "    }\n",
       "\n",
       "    .dataframe thead th {\n",
       "        text-align: right;\n",
       "    }\n",
       "</style>\n",
       "<table border=\"1\" class=\"dataframe\">\n",
       "  <thead>\n",
       "    <tr style=\"text-align: right;\">\n",
       "      <th></th>\n",
       "      <th>id</th>\n",
       "      <th>has_cactus</th>\n",
       "    </tr>\n",
       "  </thead>\n",
       "  <tbody>\n",
       "    <tr>\n",
       "      <th>0</th>\n",
       "      <td>000940378805c44108d287872b2f04ce.jpg</td>\n",
       "      <td>0.5</td>\n",
       "    </tr>\n",
       "    <tr>\n",
       "      <th>1</th>\n",
       "      <td>0017242f54ececa4512b4d7937d1e21e.jpg</td>\n",
       "      <td>0.5</td>\n",
       "    </tr>\n",
       "    <tr>\n",
       "      <th>2</th>\n",
       "      <td>001ee6d8564003107853118ab87df407.jpg</td>\n",
       "      <td>0.5</td>\n",
       "    </tr>\n",
       "    <tr>\n",
       "      <th>3</th>\n",
       "      <td>002e175c3c1e060769475f52182583d0.jpg</td>\n",
       "      <td>0.5</td>\n",
       "    </tr>\n",
       "    <tr>\n",
       "      <th>4</th>\n",
       "      <td>0036e44a7e8f7218e9bc7bf8137e4943.jpg</td>\n",
       "      <td>0.5</td>\n",
       "    </tr>\n",
       "  </tbody>\n",
       "</table>\n",
       "</div>"
      ],
      "text/plain": [
       "                                     id  has_cactus\n",
       "0  000940378805c44108d287872b2f04ce.jpg         0.5\n",
       "1  0017242f54ececa4512b4d7937d1e21e.jpg         0.5\n",
       "2  001ee6d8564003107853118ab87df407.jpg         0.5\n",
       "3  002e175c3c1e060769475f52182583d0.jpg         0.5\n",
       "4  0036e44a7e8f7218e9bc7bf8137e4943.jpg         0.5"
      ]
     },
     "execution_count": 111,
     "metadata": {},
     "output_type": "execute_result"
    }
   ],
   "source": [
    "submissions.head()"
   ]
  },
  {
   "cell_type": "markdown",
   "metadata": {},
   "source": [
    "## 데이터 시각화"
   ]
  },
  {
   "cell_type": "markdown",
   "metadata": {},
   "source": [
    "### 타겟값 분포"
   ]
  },
  {
   "cell_type": "code",
   "execution_count": 112,
   "metadata": {},
   "outputs": [
    {
     "data": {
      "image/png": "[encoded data removed]",
      "text/plain": [
       "<Figure size 700x700 with 1 Axes>"
      ]
     },
     "metadata": {},
     "output_type": "display_data"
    }
   ],
   "source": [
    "import matplotlib as mpl\n",
    "import matplotlib.pyplot as plt\n",
    "import koreanize_matplotlib\n",
    "\n",
    "plt.figure(figsize=(7, 7))\n",
    "\n",
    "label = [\"Has Cactus\", \"No Cactus\"]\n",
    "plt.pie(labels[\"has_cactus\"].value_counts(), labels=label, autopct=\"%1.1f%%\")\n",
    "plt.show()"
   ]
  },
  {
   "cell_type": "markdown",
   "metadata": {},
   "source": [
    "### 이미지 출력"
   ]
  },
  {
   "cell_type": "code",
   "execution_count": 113,
   "metadata": {},
   "outputs": [],
   "source": [
    "from zipfile import ZipFile\n",
    "\n",
    "# 훈련 이미지 데이터 압축 풀기\n",
    "with ZipFile(data_path + \"train.zip\") as z:\n",
    "    z.extractall(data_path)\n",
    "\n",
    "# 테스트 이미지 데이터 압축 풀기\n",
    "with ZipFile(data_path + \"test.zip\") as z:\n",
    "    z.extractall(data_path)"
   ]
  },
  {
   "cell_type": "code",
   "execution_count": 114,
   "metadata": {},
   "outputs": [
    {
     "name": "stdout",
     "output_type": "stream",
     "text": [
      "훈련 데이터 개수: 17500개\n",
      "테스트 데이터 개수: 4000개\n"
     ]
    }
   ],
   "source": [
    "import os\n",
    "\n",
    "num_train = len(os.listdir(data_path + \"train\"))\n",
    "num_test = len(os.listdir(data_path + \"test\"))\n",
    "\n",
    "print(f\"훈련 데이터 개수: {num_train}개\")\n",
    "print(f\"테스트 데이터 개수: {num_test}개\")"
   ]
  },
  {
   "cell_type": "code",
   "execution_count": 115,
   "metadata": {},
   "outputs": [
    {
     "data": {
      "image/png": "[encoded data removed]",
      "text/plain": [
       "<Figure size 1500x600 with 12 Axes>"
      ]
     },
     "metadata": {},
     "output_type": "display_data"
    }
   ],
   "source": [
    "import matplotlib.gridspec as gridspec\n",
    "import cv2\n",
    "\n",
    "mpl.rc(\"font\", size=7)\n",
    "plt.figure(figsize=(15, 6))\n",
    "grid = gridspec.GridSpec(2, 6)\n",
    "\n",
    "# 선인장을 포함하는 이미지 파일명(마지막 12개)\n",
    "last_has_cactus_img_name = labels[labels[\"has_cactus\"] == 1][\"id\"][-12:]\n",
    "\n",
    "# 이미지 출력\n",
    "for idx, img_name in enumerate(last_has_cactus_img_name):\n",
    "    img_path = \"train/\" + img_name\n",
    "    img = cv2.imread(data_path + img_path)\n",
    "    img = cv2.cvtColor(img, cv2.COLOR_BGR2RGB)  # 이미지 색상 보정\n",
    "    ax = plt.subplot(grid[idx])\n",
    "    ax.imshow(img)"
   ]
  },
  {
   "cell_type": "code",
   "execution_count": 116,
   "metadata": {},
   "outputs": [
    {
     "data": {
      "image/png": "[encoded data removed]",
      "text/plain": [
       "<Figure size 1500x600 with 12 Axes>"
      ]
     },
     "metadata": {},
     "output_type": "display_data"
    }
   ],
   "source": [
    "mpl.rc(\"font\", size=7)\n",
    "plt.figure(figsize=(15, 6))\n",
    "grid = gridspec.GridSpec(2, 6)\n",
    "\n",
    "# 선인장을 포함하는 이미지 파일명(마지막 12개)\n",
    "last_has_cactus_img_name = labels[labels[\"has_cactus\"] == 0][\"id\"][-12:]\n",
    "\n",
    "# 이미지 출력\n",
    "for idx, img_name in enumerate(last_has_cactus_img_name):\n",
    "    img_path = \"train/\" + img_name\n",
    "    img = cv2.imread(data_path + img_path)\n",
    "    img = cv2.cvtColor(img, cv2.COLOR_BGR2RGB)  # 이미지 색상 보정\n",
    "    ax = plt.subplot(grid[idx])\n",
    "    ax.imshow(img)"
   ]
  },
  {
   "cell_type": "code",
   "execution_count": 117,
   "metadata": {},
   "outputs": [
    {
     "data": {
      "text/plain": [
       "(32, 32, 3)"
      ]
     },
     "execution_count": 117,
     "metadata": {},
     "output_type": "execute_result"
    }
   ],
   "source": [
    "img.shape  # 가로 픽셀 수, 세로 픽셀 수, 채널 수(RGB 3개)"
   ]
  },
  {
   "cell_type": "markdown",
   "metadata": {},
   "source": [
    "# 베이스라인 모델\n",
    "\n",
    "1. 시드값 고정 및 GPU 장비 설정\n",
    "2. 데이터 준비\n",
    "    1. 훈련/검증 데이터 분리\n",
    "    2. 데이터셋 클래스 정의\n",
    "    3. 데이터셋 생성\n",
    "    4. 데이터 로더 생성\n",
    "3. 모델 생성(CNN)\n",
    "4. 모델 훈련\n",
    "    1. 손실 함수와 옵티마이저 설정\n",
    "    2. 모델 훈련\n",
    "5. 성능 검증\n",
    "6. 예측 및 제출"
   ]
  },
  {
   "cell_type": "markdown",
   "metadata": {},
   "source": [
    "## 1. 시드값 고정 및 GPU 장비 설정"
   ]
  },
  {
   "cell_type": "code",
   "execution_count": 118,
   "metadata": {},
   "outputs": [
    {
     "name": "stdout",
     "output_type": "stream",
     "text": [
      "MPS 장치를 지원하도록 build가 되었는가? ㅠTrue\n",
      "MPS 장치가 사용 가능한가? True\n"
     ]
    }
   ],
   "source": [
    "import torch\n",
    "\n",
    "print(f\"MPS 장치를 지원하도록 build가 되었는가? ㅠ{torch.backends.mps.is_built()}\")\n",
    "print(f\"MPS 장치가 사용 가능한가? {torch.backends.mps.is_available()}\")"
   ]
  },
  {
   "cell_type": "code",
   "execution_count": 119,
   "metadata": {},
   "outputs": [],
   "source": [
    "device = torch.device(\"mps\")"
   ]
  },
  {
   "cell_type": "code",
   "execution_count": 120,
   "metadata": {},
   "outputs": [],
   "source": [
    "import torch\n",
    "import random\n",
    "import numpy as np\n",
    "import os\n",
    "\n",
    "# 시드값 고정\n",
    "seed = 50\n",
    "os.environ[\"PYTHONHASHSEED\"] = str(seed)\n",
    "random.seed(seed)  # 파이썬 난수 생성기 시드 고정\n",
    "np.random.seed(seed)  # 넘파이 난수 생성기 시드 고정\n",
    "torch.manual_seed(seed)  # 파이토치 난수 생성기 시드 고정\n",
    "torch.mps.manual_seed(seed)  # 파이토치 MPS 난수 생성기 시드 고정\n",
    "torch.backends.mps.deterministic = True  # MPS 장치에서 결정론적 연산을 사용하도록 설정\n",
    "torch.backends.mps.benchmark = False  # MPS 장치에서 연산 속도를 측정하지 않도록 설정\n",
    "torch.backends.mps.enabled = True  # MPS 장치를 사용하도록 설정"
   ]
  },
  {
   "cell_type": "markdown",
   "metadata": {},
   "source": [
    "## 2. 데이터 준비\n",
    "- 훈련/검증 데이터 분리\n",
    "- 데이터셋 클래스 정의\n",
    "- 데이터셋 생성\n",
    "- 데이터 로더 생성\n"
   ]
  },
  {
   "cell_type": "markdown",
   "metadata": {},
   "source": [
    "### 훈련 데이터, 검증 데이터 분리"
   ]
  },
  {
   "cell_type": "code",
   "execution_count": 121,
   "metadata": {},
   "outputs": [],
   "source": [
    "from sklearn.model_selection import train_test_split\n",
    "\n",
    "train, valid = train_test_split(\n",
    "    labels, stratify=labels[\"has_cactus\"], test_size=0.1, random_state=seed\n",
    ")"
   ]
  },
  {
   "cell_type": "code",
   "execution_count": 122,
   "metadata": {},
   "outputs": [
    {
     "name": "stdout",
     "output_type": "stream",
     "text": [
      "훈련 데이터 개수: 15750개\n",
      "검증 데이터 개수: 1750개\n"
     ]
    }
   ],
   "source": [
    "print(f\"훈련 데이터 개수: {len(train)}개\")\n",
    "print(f\"검증 데이터 개수: {len(valid)}개\")"
   ]
  },
  {
   "cell_type": "markdown",
   "metadata": {},
   "source": [
    "### 데이터셋 클래스 정의\n",
    "\n",
    "- 파이토치로 신경망 모델을 구축하려면 데이터셋도 일정한 형식에 맞게 정의해줘야 함"
   ]
  },
  {
   "cell_type": "code",
   "execution_count": 123,
   "metadata": {},
   "outputs": [],
   "source": [
    "import cv2\n",
    "from torch.utils.data import Dataset  # 데이터 생성을 위한 클래스"
   ]
  },
  {
   "cell_type": "markdown",
   "metadata": {},
   "source": [
    "- Dataset은 추상 클래스이며, Dataset을 상속받은 다음 특수 메서드인 `__len__`과 `__getitem__`을 재정의(오버라이딩)해야 함\n",
    "    - `__len__`: 데이터셋의 총 데이터 수를 반환\n",
    "    - `__getitem__`: 인덱스를 전달받아 해당하는 데이터를 반환"
   ]
  },
  {
   "cell_type": "code",
   "execution_count": 124,
   "metadata": {},
   "outputs": [
    {
     "data": {
      "text/plain": [
       "'./data/aerial_cactus_identification/'"
      ]
     },
     "execution_count": 124,
     "metadata": {},
     "output_type": "execute_result"
    }
   ],
   "source": [
    "data_path"
   ]
  },
  {
   "cell_type": "code",
   "execution_count": 125,
   "metadata": {},
   "outputs": [],
   "source": [
    "class ImageDataset(Dataset):\n",
    "    # 초기화 메서드(생성자)\n",
    "    def __init__(self, df, img_dir=\"./\", transform=None):\n",
    "        super().__init__()\n",
    "        self.df = df\n",
    "        self.img_dir = data_path + img_dir\n",
    "        self.transform = transform\n",
    "\n",
    "    # 데이터셋 크기 반환 메서드\n",
    "    def __len__(self):\n",
    "        return len(self.df)\n",
    "\n",
    "    # 인덱스(idx)에 해당하는 데이터 반환 메서드\n",
    "    def __getitem__(self, idx):\n",
    "        img_id = self.df.iloc[idx, 0]  # 이미지 ID\n",
    "        img_path = self.img_dir + img_id  # 이미지 파일 경로\n",
    "        img = cv2.imread(img_path)  # 이미지 파일 읽기\n",
    "        img = cv2.cvtColor(img, cv2.COLOR_BGR2RGB)  # 이미지 색상 보정\n",
    "        label = self.df.iloc[idx, 1]  # 이미지 레이블(타겟값)\n",
    "\n",
    "        if self.transform is not None:\n",
    "            img = self.transform(img)  # 변환기가 있다면 이미지 변환기\n",
    "        return img, label"
   ]
  },
  {
   "cell_type": "markdown",
   "metadata": {},
   "source": [
    "### 데이터셋 생성\n",
    "\n",
    "- 파이토치 모델로 이미지를 다루려면 이미지 데이터를 tensor 타입으로 바꿔야 함\n",
    "- 파이토치로 이미지를 처리할 때는 형상이 (채널 수, 가로픽셀 수, 세로픽셀 수) 순서여야 함\n",
    "    - 여기에 배치가 추가된다면 (배치 크기, 채널 수, 가로픽셀 수, 세로픽셀 수)가 됨"
   ]
  },
  {
   "cell_type": "code",
   "execution_count": 126,
   "metadata": {},
   "outputs": [],
   "source": [
    "import torchvision.transforms as transforms  # 이미지 변환을 위한 모듈\n",
    "\n",
    "transform = transforms.ToTensor()"
   ]
  },
  {
   "cell_type": "code",
   "execution_count": 127,
   "metadata": {},
   "outputs": [],
   "source": [
    "dataset_train = ImageDataset(df=train, img_dir=\"train/\", transform=transform)\n",
    "dataset_valid = ImageDataset(df=valid, img_dir=\"train/\", transform=transform)"
   ]
  },
  {
   "cell_type": "markdown",
   "metadata": {},
   "source": [
    "### 데이터 로더 생성\n",
    "\n",
    "- 지정한 배치 크기만큼씩 데이터를 불러오는 객체\n",
    "- 딥러닝 모델을 훈련할 때는 주로 배치 단위로 데이터를 가져와 훈련함(묶음 단위로 훈련하는 게 훨씬 빠르기 때문)\n"
   ]
  },
  {
   "cell_type": "code",
   "execution_count": 128,
   "metadata": {},
   "outputs": [],
   "source": [
    "from torch.utils.data import DataLoader\n",
    "\n",
    "loader_train = DataLoader(dataset_train, batch_size=32, shuffle=True)\n",
    "loader_valid = DataLoader(dataset_valid, batch_size=32, shuffle=False)"
   ]
  },
  {
   "cell_type": "markdown",
   "metadata": {},
   "source": [
    "- 배치 크기는 2의 제곱수로 설정하는 게 효율적"
   ]
  },
  {
   "cell_type": "markdown",
   "metadata": {},
   "source": [
    "## 3. 모델 생성(CNN)\n",
    "\n",
    "- CNN모델은 nn.Module을 상속해 정의"
   ]
  },
  {
   "cell_type": "code",
   "execution_count": 129,
   "metadata": {},
   "outputs": [],
   "source": [
    "import torch.nn as nn  # 신경망 모듈\n",
    "import torch.nn.functional as F  # 신경망 모듈에서 자주 사용되는 함수"
   ]
  },
  {
   "cell_type": "code",
   "execution_count": 130,
   "metadata": {},
   "outputs": [],
   "source": [
    "class Model(nn.Module):\n",
    "    # 신경망 계층 정의\n",
    "    def __init__(self):\n",
    "        super().__init__()  # 상속받은 nn.Module의 __init__() 메서드 호출\n",
    "\n",
    "        # 첫번째 합성곱 계층, kernal_size = 필터 사이즈\n",
    "        self.conv1 = nn.Conv2d(3, 32, kernel_size=3, padding=2)\n",
    "\n",
    "        # 두번째 합성곱 계층\n",
    "        self.conv2 = nn.Conv2d(32, 64, kernel_size=3, padding=2)\n",
    "\n",
    "        # 최대 풀링 계층\n",
    "        self.max_pool = nn.MaxPool2d(kernel_size=2)\n",
    "\n",
    "        # 평균 풀링 계층\n",
    "        self.avg_pool = nn.AvgPool2d(kernel_size=2)\n",
    "\n",
    "        # 전결합 계층\n",
    "        self.fc = nn.Linear(64 * 4 * 4, out_features=2)\n",
    "\n",
    "    # 순전파 출력 정의\n",
    "    def forward(self, x):\n",
    "        x = self.max_pool(\n",
    "            F.relu(self.conv1(x))\n",
    "        )  # 첫번째 합성곱 계층과 활성화 함수 ReLU\n",
    "        x = self.max_pool(\n",
    "            F.relu(self.conv2(x))\n",
    "        )  # 두번째 합성곱 계층과 활성화 함수 ReLU\n",
    "        x = self.avg_pool(x)\n",
    "        x = x.view(-1, 64 * 4 * 4)  # 평탄화\n",
    "        x = self.fc(x)  # 전결합 계층\n",
    "        return x"
   ]
  },
  {
   "cell_type": "code",
   "execution_count": 131,
   "metadata": {},
   "outputs": [],
   "source": [
    "class Model(nn.Module):\n",
    "    def __init__(self):\n",
    "        super().__init__()\n",
    "        # 첫 번째 합성곱, 최대 풀링 계층\n",
    "        self.layer1 = nn.Sequential(\n",
    "            nn.Conv2d(3, 32, kernel_size=3, padding=2),\n",
    "            nn.ReLU(),\n",
    "            nn.MaxPool2d(kernel_size=2),\n",
    "        )\n",
    "\n",
    "        # 두 번째 합성곱, 최대 풀링 계층\n",
    "        self.layer2 = nn.Sequential(\n",
    "            nn.Conv2d(32, 64, kernel_size=3, padding=2),\n",
    "            nn.ReLU(),\n",
    "            nn.MaxPool2d(kernel_size=2),\n",
    "        )\n",
    "\n",
    "        # 평균 풀링 계층\n",
    "        self.avg_pool = nn.AvgPool2d(kernel_size=2)\n",
    "        # 전결합 계층\n",
    "        self.fc = nn.Linear(64 * 4 * 4, out_features=2)\n",
    "\n",
    "    # 순전파 출력 정의\n",
    "    def forward(self, x):\n",
    "        x = self.layer1(x)\n",
    "        x = self.layer2(x)\n",
    "        x = self.avg_pool(x)\n",
    "        x = x.view(-1, 64 * 4 * 4)\n",
    "        x = self.fc(x)\n",
    "        return x"
   ]
  },
  {
   "cell_type": "code",
   "execution_count": 132,
   "metadata": {},
   "outputs": [
    {
     "data": {
      "text/plain": [
       "Model(\n",
       "  (layer1): Sequential(\n",
       "    (0): Conv2d(3, 32, kernel_size=(3, 3), stride=(1, 1), padding=(2, 2))\n",
       "    (1): ReLU()\n",
       "    (2): MaxPool2d(kernel_size=2, stride=2, padding=0, dilation=1, ceil_mode=False)\n",
       "  )\n",
       "  (layer2): Sequential(\n",
       "    (0): Conv2d(32, 64, kernel_size=(3, 3), stride=(1, 1), padding=(2, 2))\n",
       "    (1): ReLU()\n",
       "    (2): MaxPool2d(kernel_size=2, stride=2, padding=0, dilation=1, ceil_mode=False)\n",
       "  )\n",
       "  (avg_pool): AvgPool2d(kernel_size=2, stride=2, padding=0)\n",
       "  (fc): Linear(in_features=1024, out_features=2, bias=True)\n",
       ")"
      ]
     },
     "execution_count": 132,
     "metadata": {},
     "output_type": "execute_result"
    }
   ],
   "source": [
    "model = Model().to(device)\n",
    "model"
   ]
  },
  {
   "cell_type": "markdown",
   "metadata": {},
   "source": [
    "## 4. 모델 훈련"
   ]
  },
  {
   "cell_type": "markdown",
   "metadata": {},
   "source": [
    "### 손실 함수 설정\n",
    "\n",
    "- 신경망 모델 훈련은 가중치를 갱신하는 작업인데, 가중치 갱신은 예측값과 실젯값의 손실이 작아지는 방향으로 이루어짐\n",
    "- 이 때 손실값을 구하는 함수가 손실함수"
   ]
  },
  {
   "cell_type": "code",
   "execution_count": 133,
   "metadata": {},
   "outputs": [],
   "source": [
    "# 손실 함수\n",
    "criterion = nn.CrossEntropyLoss()"
   ]
  },
  {
   "cell_type": "markdown",
   "metadata": {},
   "source": [
    "- 교차 엔트로피는 딥러닝 분류 문제에서 자주 사용하는 손실 함수"
   ]
  },
  {
   "cell_type": "markdown",
   "metadata": {},
   "source": [
    "### 옵티마이저 설정\n",
    "\n",
    "- 최적 가중치를 찾아주는 알고리즘"
   ]
  },
  {
   "cell_type": "code",
   "execution_count": 134,
   "metadata": {},
   "outputs": [],
   "source": [
    "# 옵티마이저\n",
    "optimizer = torch.optim.SGD(model.parameters(), lr=0.01)"
   ]
  },
  {
   "cell_type": "markdown",
   "metadata": {},
   "source": [
    "### 모델 훈련\n",
    "\n",
    "#### 이미지용 딥러닝 모델 훈련 절차\n",
    "1. 데이터 로더에서 배치 크기만큼 데이터를 불러옴\n",
    "2. 불러온 이미지 데이터와 타겟값 데이터를 장비(GPU 혹은 CPU)에 할당\n",
    "3. 옵티마이저 내 기울기를 초기화\n",
    "4. 신경망 모델에 입력 데이터(이미지)를 전달해 순전파하여 출력값(예측값)을 구함\n",
    "5. 예측값과 타겟값을 비교해 손실을 계산\n",
    "6. 손실을 기반으로 역전파를 수행\n",
    "7. 역전파로 구한 기울기를 활용해 가중치를 갱신\n",
    "8. 1-7 절차를 반복 횟수만큼 되풀이\n",
    "9. 1-8 절차를 에폭만큼 반복"
   ]
  },
  {
   "cell_type": "markdown",
   "metadata": {},
   "source": [
    "#### 에폭\n",
    "\n",
    "- `훈련 데이터 전체`를 한 번 훑었음을 뜻함\n",
    "- 신경망 가중치가 최적화되기에는 1에폭만 훈련해서는 부족\n",
    "    - 보통 수십 ~ 수백 에폭만큼 훈련함\n",
    "    - 에폭이 너무 적으면 과소적합, 너무 많으면 과대적합이 발생\n",
    "\n",
    "#### 배치 크기\n",
    "- 매 훈련 이터레이션에서 한 번에 훈련할 데이터 개수\n",
    "\n",
    "#### 반복 횟수\n",
    "- 1에폭의 훈련을 완료하는 데 필요한 훈련 이터레이션\n",
    "\n",
    "$$\n",
    "반복 횟수 = \\frac{훈련 데이터 개수}{배치 크기}\n",
    "$$"
   ]
  },
  {
   "cell_type": "code",
   "execution_count": null,
   "metadata": {},
   "outputs": [
    {
     "name": "stdout",
     "output_type": "stream",
     "text": [
      "에폭 [1/10], 손실값: 0.5233\n",
      "에폭 [2/10], 손실값: 0.3452\n",
      "에폭 [3/10], 손실값: 0.2369\n",
      "에폭 [4/10], 손실값: 0.1983\n",
      "에폭 [5/10], 손실값: 0.1754\n",
      "에폭 [6/10], 손실값: 0.1666\n",
      "에폭 [7/10], 손실값: 0.1544\n",
      "에폭 [8/10], 손실값: 0.1439\n",
      "에폭 [9/10], 손실값: 0.1332\n",
      "에폭 [10/10], 손실값: 0.1299\n"
     ]
    }
   ],
   "source": [
    "epochs = 10  # 총 에폭\n",
    "\n",
    "# 총 에폭만큼 반복\n",
    "for epoch in range(epochs):\n",
    "    epoch_loss = 0  # 에폭별 손실값 초기화\n",
    "\n",
    "    # '반복 회수'만큼 반복\n",
    "    for images, labels in loader_train:\n",
    "        # 이미지, 레이블 데이터 미니배치를 장비에 할당\n",
    "        images = images.to(device)\n",
    "        labels = labels.to(device)\n",
    "\n",
    "        # 옵티마이저 내 기울기 초기화\n",
    "        optimizer.zero_grad()\n",
    "\n",
    "        # 순전파: 이미지 데이터를 신경망 모델의 입력값으로 사용해 출력값 계산\n",
    "        outputs = model(images)\n",
    "\n",
    "        # 손실 함수를 활용해 outputs와 labels의 손실값 계산\n",
    "        loss = criterion(outputs, labels)\n",
    "\n",
    "        # 현재 배치에서의 손실 추가\n",
    "        epoch_loss += loss.item()  # 역전파 수행\n",
    "        loss.backward()\n",
    "\n",
    "        # 가중치 갱신\n",
    "        optimizer.step()\n",
    "\n",
    "    # 훈련 데이터 손실값 출력\n",
    "    print(f\"에폭 [{epoch + 1}/{epochs}], 손실값: {epoch_loss / len(loader_train):.4f}\")"
   ]
  },
  {
   "cell_type": "markdown",
   "metadata": {},
   "source": [
    "## 5. 성능 검증"
   ]
  },
  {
   "cell_type": "markdown",
   "metadata": {},
   "source": [
    "- 훈련이 끝났으니 검증 데이터를 이용해 평가지표인 ROC AUC 값을 계산"
   ]
  },
  {
   "cell_type": "code",
   "execution_count": 136,
   "metadata": {},
   "outputs": [],
   "source": [
    "from sklearn.metrics import roc_auc_score  # ROC AUC 점수 계산 함수 임포트\n",
    "\n",
    "# 실젯값과 예측 확률값을 담을 리스트 초기화\n",
    "true_list = []\n",
    "preds_list = []"
   ]
  },
  {
   "cell_type": "code",
   "execution_count": 137,
   "metadata": {},
   "outputs": [
    {
     "name": "stdout",
     "output_type": "stream",
     "text": [
      "검증 데이터 ROC AUC : 0.9903\n"
     ]
    }
   ],
   "source": [
    "model.eval()  # 모델을 평가 상태로 설정\n",
    "\n",
    "with torch.no_grad():  # 기울기 계산 비활성화\n",
    "    for images, labels in loader_valid:\n",
    "        images = images.to(device)\n",
    "        labels = labels.to(device)\n",
    "\n",
    "        # 순전파: 이미지 데이터를 신경망 모델의 입력값으로 사용해 출력값 계산\n",
    "        outputs = model(images)\n",
    "        preds = torch.softmax(outputs.cpu(), dim=1)[:, 1]  # 예측 확률\n",
    "        true = labels.cpu()  # 실젯값\n",
    "        # 예측 확률과 실젯값을 리스트에 추가\n",
    "        preds_list.extend(preds)\n",
    "        true_list.extend(true)\n",
    "\n",
    "# 검증 데이터 ROC AUC 점수 계산\n",
    "print(f\"검증 데이터 ROC AUC : {roc_auc_score(true_list, preds_list):.4f}\")"
   ]
  },
  {
   "cell_type": "markdown",
   "metadata": {},
   "source": [
    "- outputs.cpu(), labels.cpu()는 각각 이전에 GPU에 할당했던 outputs와 labels의 데이터를 다시 CPU에 할당. roc_auc_score는 파이토치가 아니라 사이킷런 함수이므로 GPU에 있는 데이터를 직접 사용 불가"
   ]
  },
  {
   "cell_type": "markdown",
   "metadata": {},
   "source": [
    "- 신경망 모델은 훈련 단계와 평가 단계에서 상태가 서로 다름. 예를 들어, `드롭아웃`은 훈련 단계에서만 적용해야 함. `model.eval()`을 실행하면 평가 상태라고 인식해서 모델이 `드롭아웃`을 적용하지 않음. 이번 모델에는 드롭아웃이나 배치 정규화를 적용하지 않았어서 model.eval()을 실행하지 않아도 결과에 차이는 없음. 하지만 실제로는 평가 상태로 설정하는 게 좋음\n",
    "\n",
    "- 또, 평가 단계에서는 역전파를 쓰지 않아서 기울기를 계산할 필요가 없음. `backward()`로 역전파를 하지 않아도 `torch.no_grad()`를 적용하는 이유는 필요없는 계산을 피해 메모리를 아끼고 속도를 높이기 위함"
   ]
  },
  {
   "cell_type": "markdown",
   "metadata": {},
   "source": [
    "## 6. 예측 및 제출"
   ]
  },
  {
   "cell_type": "code",
   "execution_count": 140,
   "metadata": {},
   "outputs": [],
   "source": [
    "dataset_test = ImageDataset(df=submissions, img_dir=\"test/\", transform=transform)\n",
    "loader_test = DataLoader(dataset_test, batch_size=32, shuffle=False)"
   ]
  },
  {
   "cell_type": "markdown",
   "metadata": {},
   "source": [
    "### 예측"
   ]
  },
  {
   "cell_type": "code",
   "execution_count": 141,
   "metadata": {},
   "outputs": [],
   "source": [
    "model.eval()\n",
    "\n",
    "preds = []  # 예측값을 담을 리스트 초기화\n",
    "\n",
    "with torch.no_grad():  # 기울기 계산 비활성화\n",
    "    for images, _ in loader_test:\n",
    "        images = images.to(device)\n",
    "\n",
    "        # 순전파: 이미지 데이터를 신경망 모델의 입력값으로 사용해 출력값 계산\n",
    "        outputs = model(images)\n",
    "        # 타겟값이 1일 확률(예측값)\n",
    "        preds_part = torch.softmax(outputs.cpu(), dim=1)[:, 1].tolist()\n",
    "        # preds에 preds_part 이어붙이기\n",
    "        preds.extend(preds_part)"
   ]
  },
  {
   "cell_type": "markdown",
   "metadata": {},
   "source": [
    "----\n",
    "\n",
    "# 성능 개선\n",
    "1. 다양한 이미지 변환을 수행\n",
    "2. 더 깊은 CNN 모델 생성\n",
    "3. 더 뛰어난 옵티마이저 사용\n",
    "4. 훈련 시 에폭 수를 늘림"
   ]
  },
  {
   "cell_type": "markdown",
   "metadata": {},
   "source": [
    "1. 시드값 고정 및 GPU 장비 설정\n",
    "2. 데이터 준비\n",
    "    - 훈련/검증 데이터 분리\n",
    "    - 데이터셋 클래스 정의\n",
    "    - ⭐️ 이미지 변환기 정의\n",
    "    - 데이터셋 생성\n",
    "    - 데이터 로더 생성\n",
    "3. 모델 생성(CNN) (⭐️ 깊은 CNN)\n",
    "    - ⭐️ 배치 정규화\n",
    "    - Leaky ReLU\n",
    "4. 모델 훈련\n",
    "    - 손실 함수와 ⭐️ 더 나은 옵티마이저 설정\n",
    "    - 모델 훈련(⭐️ 에폭 수 증가)\n",
    "5. 성능 검증\n",
    "6. 예측 및 제출"
   ]
  },
  {
   "cell_type": "markdown",
   "metadata": {},
   "source": [
    "## 1. 데이터 준비"
   ]
  },
  {
   "cell_type": "markdown",
   "metadata": {},
   "source": [
    "### 이미지 변환과 데이터 증강\n",
    "\n",
    "- ImageDataset 클래스로 데이터셋을 만들 때 이미지 변환기 적용 가능\n",
    "\n",
    "#### 이미지 변환 이유\n",
    "- 데이터를 더 많이 생성하기 위해\n",
    "- 딥러닝 모델은 대체로 훈련 데이터가 많을수록 정확해지므로 의미 있는 데이터는 많을수록 좋음\n",
    "- 확보한 데이터가 부족할 때 특히 유용\n",
    "- 이미지를 변환하여 데이터 수를 늘리는 방식  = `데이터 증강 (data augmentation)`\n",
    "\n",
    "\n",
    "#### 파이토치용 컴퓨터 비전 라이브러리인 torchvision의 transforms 모듈이 제공하는 주요 변환기\n",
    "- Compose() : 여러 변환기를 묶어줌\n",
    "- ToTensor(): PIL(Python Imaging Library) 이미지나 ndarray 이미지를 PyTorch 텐서로 변환\n",
    "- Pad(): 이미지 주변에 패딩 추가\n",
    "- RandomHorizontalFlip(): 무작위로 이미지를 좌우 대칭 변환\n",
    "- RandomVerticalFlip(): 무작위로 이미지를 상하 대칭 변환\n",
    "- RandomRotation(): 이미지를 무작위로 회전\n",
    "- Normalize(): 텐서 형태의 이미지 데이터를 정규화"
   ]
  },
  {
   "cell_type": "markdown",
   "metadata": {},
   "source": [
    "### 이미지 변환기 정의\n",
    "\n",
    "- 훈련 시에는 모델을 다양한 상황에 적응시키는 게 좋지만, 평가 및 테스트 시에는 원본 이미지와 너무 달라지면 예측하기 어려워질 수 있기 때문에 **훈련 데이터용과 검증 및 테스트 데이터용을 따로 만든다**"
   ]
  },
  {
   "cell_type": "markdown",
   "metadata": {},
   "source": [
    "- transforms 변환기들은 텐서 객체만 입력 받음"
   ]
  },
  {
   "cell_type": "code",
   "execution_count": 147,
   "metadata": {},
   "outputs": [],
   "source": [
    "from torchvision import transforms  # 이미지 변환을 위한 모듈\n",
    "\n",
    "# 훈련 데이터용 변환기\n",
    "transfrom_train = transforms.Compose(\n",
    "    [\n",
    "        transforms.ToTensor(),  # 이미지를 텐서 객체로 변환\n",
    "        transforms.Pad(32, padding_mode=\"symmetric\"),  # 가로 세로 크기가 96이됨\n",
    "        transforms.RandomHorizontalFlip(),\n",
    "        transforms.RandomVerticalFlip(),  # 무작위로 좌우, 상하 대칭 변환\n",
    "        transforms.RandomRotation(10),  # 이미지를 회전시킴. -10도 ~ 10도 사이\n",
    "        # 빨강, 초록, 파랑을 평균과 분산에 맞게 정규화\n",
    "        # 대개 이값으로 사용\n",
    "        # 백만 개 이미지를 보유한 이미지넷의 데이터로부터 얻은 값\n",
    "        transforms.Normalize((0.485, 0.456, 0.406), (0.229, 0.224, 0.225)),\n",
    "    ]\n",
    ")\n",
    "\n",
    "# 검증 및 테스트 데이터용 변환기\n",
    "transform_test = transforms.Compose(\n",
    "    [\n",
    "        transforms.ToTensor(),\n",
    "        transforms.Pad(32, padding_mode=\"symmetric\"),\n",
    "        transforms.Normalize((0.485, 0.456, 0.406), (0.229, 0.224, 0.225)),\n",
    "    ]\n",
    ")"
   ]
  },
  {
   "cell_type": "markdown",
   "metadata": {},
   "source": [
    "### 데이터셋 및 데이터 로더 생성"
   ]
  },
  {
   "cell_type": "code",
   "execution_count": 148,
   "metadata": {},
   "outputs": [],
   "source": [
    "dataset_train = ImageDataset(df=train, img_dir=\"train/\", transform=transfrom_train)\n",
    "dataset_valid = ImageDataset(df=valid, img_dir=\"train/\", transform=transform_test)"
   ]
  },
  {
   "cell_type": "code",
   "execution_count": 157,
   "metadata": {},
   "outputs": [],
   "source": [
    "from torch.utils.data import DataLoader  # 데이터 로더 클래스\n",
    "\n",
    "loader_train = DataLoader(dataset_train, batch_size=32, shuffle=True)\n",
    "loader_valid = DataLoader(dataset_valid, batch_size=32, shuffle=False)"
   ]
  },
  {
   "cell_type": "markdown",
   "metadata": {},
   "source": [
    "- 데이터 로더로 데이터를 불러올 때마다 이미지 변환을 수행\n",
    "- 변환기중 Random이 붙은 변환기는 변환을 무작위로 가하기 때문에 매번 다르게 변환\n",
    "- 즉, 원본 이미지는 같지만 첫 번째 에폭과 두 번째 에폭에서 서로 다른 이미지로 훈련하는 효과를 얻을 수 있음 -> 이것이 바로 `데이터 증강` 기법"
   ]
  },
  {
   "cell_type": "markdown",
   "metadata": {},
   "source": [
    "## 2. 모델 생성\n",
    "- 신경망 계층이 깊어지면 대체로 예측력이 좋아짐. (너무 깊으면 과대적합이 될 우려가 있음)"
   ]
  },
  {
   "cell_type": "code",
   "execution_count": 150,
   "metadata": {},
   "outputs": [],
   "source": [
    "import torch.nn as nn\n",
    "import torch.nn.functional as F\n",
    "\n",
    "\n",
    "class Model(nn.Module):\n",
    "    # 신경망 계층 정의\n",
    "    def __init__(self):\n",
    "        super().__init__()\n",
    "        self.layer1 = nn.Sequential(\n",
    "            nn.Conv2d(3, 32, kernel_size=3, padding=2),\n",
    "            nn.BatchNorm2d(32),\n",
    "            nn.LeakyReLU(),\n",
    "            nn.MaxPool2d(kernel_size=2),\n",
    "        )\n",
    "        \n",
    "        self.layer2 = nn.Sequential(\n",
    "            nn.Conv2d(32, 64, kernel_size=3, padding=2),\n",
    "            nn.BatchNorm2d(64),\n",
    "            nn.LeakyReLU(),\n",
    "            nn.MaxPool2d(kernel_size=2),\n",
    "        )\n",
    "        \n",
    "        self.layer3 = nn.Sequential(\n",
    "            nn.Conv2d(64, 128, kernel_size=3, padding=2),\n",
    "            nn.BatchNorm2d(128),\n",
    "            nn.LeakyReLU(),\n",
    "            nn.MaxPool2d(kernel_size=2),\n",
    "        )\n",
    "        \n",
    "        self.layer4 = nn.Sequential(\n",
    "            nn.Conv2d(128, 256, kernel_size=3, padding=2),\n",
    "            nn.BatchNorm2d(256),\n",
    "            nn.LeakyReLU(),\n",
    "            nn.MaxPool2d(kernel_size=2),\n",
    "        )\n",
    "        \n",
    "        self.layer5 = nn.Sequential(\n",
    "            nn.Conv2d(256, 512, kernel_size=3, padding=2),\n",
    "            nn.BatchNorm2d(512),\n",
    "            nn.LeakyReLU(),\n",
    "            nn.MaxPool2d(kernel_size=2),\n",
    "        )\n",
    "        \n",
    "        # 평균 풀링 계층\n",
    "        self.avg_pool = nn.AvgPool2d(kernel_size=4)\n",
    "        self.fc1 = nn.Linear(512 * 1 * 1, 64)\n",
    "        self.fc2 = nn.Linear(64, 2)\n",
    "        \n",
    "    # 순전파 출력 정의\n",
    "    def forward(self, x):\n",
    "        x = self.layer1(x)\n",
    "        x = self.layer2(x)\n",
    "        x = self.layer3(x)\n",
    "        x = self.layer4(x)\n",
    "        x = self.layer5(x)\n",
    "        x = self.avg_pool(x)\n",
    "        x = x.view(-1, 512 * 1 * 1) # 평탄화\n",
    "        x = self.fc1(x)\n",
    "        x = self.fc2(x)\n",
    "        return x"
   ]
  },
  {
   "cell_type": "code",
   "execution_count": 151,
   "metadata": {},
   "outputs": [],
   "source": [
    "model = Model().to(device)"
   ]
  },
  {
   "cell_type": "markdown",
   "metadata": {},
   "source": [
    "## 3. 모델 훈련"
   ]
  },
  {
   "cell_type": "markdown",
   "metadata": {},
   "source": [
    "### 손실 함수와 옵티마이저 설정"
   ]
  },
  {
   "cell_type": "code",
   "execution_count": 152,
   "metadata": {},
   "outputs": [],
   "source": [
    "# 손실 함수\n",
    "criterion = nn.CrossEntropyLoss()"
   ]
  },
  {
   "cell_type": "code",
   "execution_count": 154,
   "metadata": {},
   "outputs": [],
   "source": [
    "# 옵티마이저\n",
    "optimizer = torch.optim.Adam(model.parameters(), lr=0.00006)"
   ]
  },
  {
   "cell_type": "markdown",
   "metadata": {},
   "source": [
    "- 배치 크기가 줄어들수록 학습률도 게 설정해야 함. \n",
    "- 배치 크기가 클수록 학습률도 크게 설정해야함"
   ]
  },
  {
   "cell_type": "markdown",
   "metadata": {},
   "source": [
    "### 모델 훈련"
   ]
  },
  {
   "cell_type": "code",
   "execution_count": 155,
   "metadata": {},
   "outputs": [
    {
     "name": "stdout",
     "output_type": "stream",
     "text": [
      "에폭 [1/70], 손실값: 0.1072\n",
      "에폭 [2/70], 손실값: 0.0550\n",
      "에폭 [3/70], 손실값: 0.0407\n",
      "에폭 [4/70], 손실값: 0.0351\n",
      "에폭 [5/70], 손실값: 0.0304\n",
      "에폭 [6/70], 손실값: 0.0270\n",
      "에폭 [7/70], 손실값: 0.0227\n",
      "에폭 [8/70], 손실값: 0.0214\n",
      "에폭 [9/70], 손실값: 0.0199\n",
      "에폭 [10/70], 손실값: 0.0180\n",
      "에폭 [11/70], 손실값: 0.0139\n",
      "에폭 [12/70], 손실값: 0.0162\n",
      "에폭 [13/70], 손실값: 0.0146\n",
      "에폭 [14/70], 손실값: 0.0162\n",
      "에폭 [15/70], 손실값: 0.0107\n",
      "에폭 [16/70], 손실값: 0.0108\n",
      "에폭 [17/70], 손실값: 0.0087\n",
      "에폭 [18/70], 손실값: 0.0101\n",
      "에폭 [19/70], 손실값: 0.0110\n",
      "에폭 [20/70], 손실값: 0.0096\n",
      "에폭 [21/70], 손실값: 0.0070\n",
      "에폭 [22/70], 손실값: 0.0076\n",
      "에폭 [23/70], 손실값: 0.0081\n",
      "에폭 [24/70], 손실값: 0.0063\n",
      "에폭 [25/70], 손실값: 0.0073\n",
      "에폭 [26/70], 손실값: 0.0062\n",
      "에폭 [27/70], 손실값: 0.0050\n",
      "에폭 [28/70], 손실값: 0.0057\n",
      "에폭 [29/70], 손실값: 0.0054\n",
      "에폭 [30/70], 손실값: 0.0030\n",
      "에폭 [31/70], 손실값: 0.0085\n",
      "에폭 [32/70], 손실값: 0.0043\n",
      "에폭 [33/70], 손실값: 0.0041\n",
      "에폭 [34/70], 손실값: 0.0019\n",
      "에폭 [35/70], 손실값: 0.0056\n",
      "에폭 [36/70], 손실값: 0.0033\n",
      "에폭 [37/70], 손실값: 0.0033\n",
      "에폭 [38/70], 손실값: 0.0042\n",
      "에폭 [39/70], 손실값: 0.0044\n",
      "에폭 [40/70], 손실값: 0.0050\n",
      "에폭 [41/70], 손실값: 0.0012\n",
      "에폭 [42/70], 손실값: 0.0060\n",
      "에폭 [43/70], 손실값: 0.0032\n",
      "에폭 [44/70], 손실값: 0.0023\n",
      "에폭 [45/70], 손실값: 0.0035\n",
      "에폭 [46/70], 손실값: 0.0020\n",
      "에폭 [47/70], 손실값: 0.0036\n",
      "에폭 [48/70], 손실값: 0.0040\n",
      "에폭 [49/70], 손실값: 0.0040\n",
      "에폭 [50/70], 손실값: 0.0028\n",
      "에폭 [51/70], 손실값: 0.0020\n",
      "에폭 [52/70], 손실값: 0.0012\n",
      "에폭 [53/70], 손실값: 0.0040\n",
      "에폭 [54/70], 손실값: 0.0036\n",
      "에폭 [55/70], 손실값: 0.0012\n",
      "에폭 [56/70], 손실값: 0.0016\n",
      "에폭 [57/70], 손실값: 0.0022\n",
      "에폭 [58/70], 손실값: 0.0060\n",
      "에폭 [59/70], 손실값: 0.0023\n",
      "에폭 [60/70], 손실값: 0.0021\n",
      "에폭 [61/70], 손실값: 0.0006\n",
      "에폭 [62/70], 손실값: 0.0025\n",
      "에폭 [63/70], 손실값: 0.0033\n",
      "에폭 [64/70], 손실값: 0.0029\n",
      "에폭 [65/70], 손실값: 0.0017\n",
      "에폭 [66/70], 손실값: 0.0004\n",
      "에폭 [67/70], 손실값: 0.0028\n",
      "에폭 [68/70], 손실값: 0.0019\n",
      "에폭 [69/70], 손실값: 0.0030\n",
      "에폭 [70/70], 손실값: 0.0008\n"
     ]
    }
   ],
   "source": [
    "epochs = 70\n",
    "\n",
    "for epoch in range(epochs):\n",
    "    epoch_loss = 0\n",
    "\n",
    "    for images, labels in loader_train:\n",
    "        images = images.to(device)\n",
    "        labels = labels.to(device)\n",
    "\n",
    "        optimizer.zero_grad()\n",
    "        # 순전파: 이미지 데이터를 신경망 모델의 입력값으로 사용해 출력값 계산\n",
    "        outputs = model(images)\n",
    "        # outputs와 labels의 손실값 계산\n",
    "        loss = criterion(outputs, labels)\n",
    "        # 현재 배치에서의 손실 추가\n",
    "        epoch_loss += loss.item()\n",
    "        # 역전파 수행\n",
    "        loss.backward()\n",
    "        # 가중치 갱신\n",
    "        optimizer.step()\n",
    "\n",
    "    print(f\"에폭 [{epoch + 1}/{epochs}], 손실값: {epoch_loss / len(loader_train):.4f}\")"
   ]
  },
  {
   "cell_type": "markdown",
   "metadata": {},
   "source": [
    "## 4. 성능 검증"
   ]
  },
  {
   "cell_type": "code",
   "execution_count": 158,
   "metadata": {},
   "outputs": [
    {
     "name": "stdout",
     "output_type": "stream",
     "text": [
      "검증 데이터 ROC AUC : 0.9998\n"
     ]
    }
   ],
   "source": [
    "from sklearn.metrics import roc_auc_score\n",
    "\n",
    "true_list = []\n",
    "preds_list = []\n",
    "\n",
    "model.eval()\n",
    "\n",
    "with torch.no_grad():\n",
    "    for images, labels in loader_valid:\n",
    "        images = images.to(device)\n",
    "        labels = labels.to(device)\n",
    "\n",
    "        outputs = model(images)\n",
    "        preds = torch.softmax(outputs.cpu(), dim=1)[:, 1]\n",
    "        true = labels.cpu()\n",
    "        preds_list.extend(preds)\n",
    "        true_list.extend(true)\n",
    "        \n",
    "print(f\"검증 데이터 ROC AUC : {roc_auc_score(true_list, preds_list):.4f}\")"
   ]
  },
  {
   "cell_type": "markdown",
   "metadata": {},
   "source": [
    "## 5. 예측 및 제출"
   ]
  },
  {
   "cell_type": "code",
   "execution_count": 160,
   "metadata": {},
   "outputs": [],
   "source": [
    "dataset_test = ImageDataset(df=submissions, img_dir=\"test/\", transform=transform_test)\n",
    "loader_test = DataLoader(dataset_test, batch_size=32, shuffle=False)\n",
    "\n",
    "model.eval()\n",
    "\n",
    "preds = []\n",
    "\n",
    "with torch.no_grad():\n",
    "    for images, _ in loader_test:\n",
    "        images = images.to(device)\n",
    "\n",
    "        outputs = model(images)\n",
    "        preds_part = torch.softmax(outputs.cpu(), dim=1)[:, 1].tolist()\n",
    "        preds.extend(preds_part)"
   ]
  }
 ],
 "metadata": {
  "kernelspec": {
   "display_name": "env2501",
   "language": "python",
   "name": "python3"
  },
  "language_info": {
   "codemirror_mode": {
    "name": "ipython",
    "version": 3
   },
   "file_extension": ".py",
   "mimetype": "text/x-python",
   "name": "python",
   "nbconvert_exporter": "python",
   "pygments_lexer": "ipython3",
   "version": "3.8.20"
  }
 },
 "nbformat": 4,
 "nbformat_minor": 2
}
